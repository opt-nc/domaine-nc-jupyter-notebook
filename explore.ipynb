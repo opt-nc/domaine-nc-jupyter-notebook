{
 "cells": [
  {
   "cell_type": "markdown",
   "metadata": {},
   "source": [
    "---\n",
    "title: Exploration des domaines NC\n",
    "author: Olivier Ruineau\n",
    "description: POC sur les données domaine NC ou comment explorer des données facilement !\n",
    "show-code: False\n",
    "show-prompt: True\n",
    "output: app\n",
    "params:\n",
    "    detail:\n",
    "        input: numeric\n",
    "        label: niveau de détail dans les graphs\n",
    "        value: 10\n",
    "        min: 5\n",
    "        max: 20\n",
    "        step: 5\n",
    "---"
   ]
  },
  {
   "cell_type": "code",
   "execution_count": 8,
   "metadata": {},
   "outputs": [],
   "source": [
    "detail = 10"
   ]
  },
  {
   "cell_type": "markdown",
   "metadata": {},
   "source": [
    "# domaine-nc-jupyter-notebook #\n",
    "\n",
    "Jupyter Notebook dédié à la l'analyse des noms de domaines en Nouvelle-Calédonie\n",
    "\n",
    "Ce Notebook est à la fois une analyse et un example de ce qui est faisable avec:\n",
    "- une source de donnée propre\n",
    "- quelques bases de programmation\n",
    "- une stack qui va bien\n",
    "\n",
    "Il permet surtout de montrer à quel point le partage avec des non techniciens peut être simple !!\n",
    "\n",
    "Le code source est accessible sur [github](https://github.com/opt-nc/domaine-nc-jupyter-notebook)"
   ]
  },
  {
   "cell_type": "code",
   "execution_count": 2,
   "metadata": {},
   "outputs": [],
   "source": [
    "import pandas as pd\n",
    "\n",
    "input_csv = 'domaine-nc.csv'\n",
    "domaine = pd.read_csv(input_csv)\n",
    "\n",
    "# les dates sont en texte par defaut, on convertit en datetime\n",
    "domaine['dateCreation'] = pd.to_datetime(domaine['dateCreation'])\n",
    "domaine['dateModification'] = pd.to_datetime(domaine['dateModification'])\n",
    "domaine['dateExpiration'] = pd.to_datetime(domaine['dateExpiration'])"
   ]
  },
  {
   "cell_type": "markdown",
   "metadata": {},
   "source": [
    "## Notre fichier ##\n",
    "\n",
    "Les 3 premieres lignes du fichier pour bien se rendre compte de nos données en entrée"
   ]
  },
  {
   "cell_type": "code",
   "execution_count": 19,
   "metadata": {},
   "outputs": [
    {
     "data": {
      "text/html": [
       "<div>\n",
       "<style scoped>\n",
       "    .dataframe tbody tr th:only-of-type {\n",
       "        vertical-align: middle;\n",
       "    }\n",
       "\n",
       "    .dataframe tbody tr th {\n",
       "        vertical-align: top;\n",
       "    }\n",
       "\n",
       "    .dataframe thead th {\n",
       "        text-align: right;\n",
       "    }\n",
       "</style>\n",
       "<table border=\"1\" class=\"dataframe\">\n",
       "  <thead>\n",
       "    <tr style=\"text-align: right;\">\n",
       "      <th></th>\n",
       "      <th>nom</th>\n",
       "      <th>extension</th>\n",
       "      <th>gestionnaire</th>\n",
       "      <th>beneficiaire</th>\n",
       "      <th>status</th>\n",
       "      <th>dns1</th>\n",
       "      <th>dns2</th>\n",
       "      <th>dns3</th>\n",
       "      <th>dateCreation</th>\n",
       "      <th>dateModification</th>\n",
       "      <th>dateExpiration</th>\n",
       "      <th>nbDaysBeforeExpires</th>\n",
       "      <th>expired</th>\n",
       "      <th>note</th>\n",
       "    </tr>\n",
       "  </thead>\n",
       "  <tbody>\n",
       "    <tr>\n",
       "      <th>0</th>\n",
       "      <td>032</td>\n",
       "      <td>nc</td>\n",
       "      <td>LA FABRIK</td>\n",
       "      <td>Ridet : 1507490-001 32C</td>\n",
       "      <td>green</td>\n",
       "      <td>ns-408.awsdns-51.com</td>\n",
       "      <td>ns-1687.awsdns-18.co.uk</td>\n",
       "      <td>ns-1488.awsdns-58.org</td>\n",
       "      <td>2021-08-23</td>\n",
       "      <td>2021-08-23</td>\n",
       "      <td>2026-08-23</td>\n",
       "      <td>1492</td>\n",
       "      <td>False</td>\n",
       "      <td>Les données de cet annuaire WHOIS ne sont four...</td>\n",
       "    </tr>\n",
       "    <tr>\n",
       "      <th>1</th>\n",
       "      <td>1012</td>\n",
       "      <td>nc</td>\n",
       "      <td>AUCUN</td>\n",
       "      <td>Ridet : 0132720-001 OPT</td>\n",
       "      <td>green</td>\n",
       "      <td>nsopt1.opt.nc</td>\n",
       "      <td>nsopt2.opt.nc</td>\n",
       "      <td>nsopt3.opt.nc</td>\n",
       "      <td>2008-04-02</td>\n",
       "      <td>2021-04-06</td>\n",
       "      <td>2028-04-02</td>\n",
       "      <td>2080</td>\n",
       "      <td>False</td>\n",
       "      <td>Les données de cet annuaire WHOIS ne sont four...</td>\n",
       "    </tr>\n",
       "    <tr>\n",
       "      <th>2</th>\n",
       "      <td>1013</td>\n",
       "      <td>nc</td>\n",
       "      <td>OPT</td>\n",
       "      <td>Ridet : 0132720-004 AGENCE COMMERCIALE DE L'OP...</td>\n",
       "      <td>green</td>\n",
       "      <td>nsopt1.opt.nc</td>\n",
       "      <td>nsopt2.opt.nc</td>\n",
       "      <td>nsopt3.opt.nc</td>\n",
       "      <td>2008-04-08</td>\n",
       "      <td>2021-02-16</td>\n",
       "      <td>2023-04-08</td>\n",
       "      <td>259</td>\n",
       "      <td>False</td>\n",
       "      <td>Les données de cet annuaire WHOIS ne sont four...</td>\n",
       "    </tr>\n",
       "  </tbody>\n",
       "</table>\n",
       "</div>"
      ],
      "text/plain": [
       "    nom extension gestionnaire  \\\n",
       "0   032        nc    LA FABRIK   \n",
       "1  1012        nc        AUCUN   \n",
       "2  1013        nc          OPT   \n",
       "\n",
       "                                        beneficiaire status  \\\n",
       "0                            Ridet : 1507490-001 32C  green   \n",
       "1                            Ridet : 0132720-001 OPT  green   \n",
       "2  Ridet : 0132720-004 AGENCE COMMERCIALE DE L'OP...  green   \n",
       "\n",
       "                   dns1                     dns2                   dns3  \\\n",
       "0  ns-408.awsdns-51.com  ns-1687.awsdns-18.co.uk  ns-1488.awsdns-58.org   \n",
       "1         nsopt1.opt.nc            nsopt2.opt.nc          nsopt3.opt.nc   \n",
       "2         nsopt1.opt.nc            nsopt2.opt.nc          nsopt3.opt.nc   \n",
       "\n",
       "  dateCreation dateModification dateExpiration  nbDaysBeforeExpires  expired  \\\n",
       "0   2021-08-23       2021-08-23     2026-08-23                 1492    False   \n",
       "1   2008-04-02       2021-04-06     2028-04-02                 2080    False   \n",
       "2   2008-04-08       2021-02-16     2023-04-08                  259    False   \n",
       "\n",
       "                                                note  \n",
       "0  Les données de cet annuaire WHOIS ne sont four...  \n",
       "1  Les données de cet annuaire WHOIS ne sont four...  \n",
       "2  Les données de cet annuaire WHOIS ne sont four...  "
      ]
     },
     "execution_count": 19,
     "metadata": {},
     "output_type": "execute_result"
    }
   ],
   "source": [
    "domaine.head(3)"
   ]
  },
  {
   "cell_type": "markdown",
   "metadata": {},
   "source": [
    "## Quelques stat pour commencer ##\n"
   ]
  },
  {
   "cell_type": "code",
   "execution_count": 18,
   "metadata": {},
   "outputs": [
    {
     "name": "stdout",
     "output_type": "stream",
     "text": [
      "Nombre de domaines : 6651\n",
      "Etat : \n",
      "green     6617\n",
      "orange      22\n",
      "red         12\n"
     ]
    }
   ],
   "source": [
    "print(f\"Nombre de domaines : {len(domaine)}\")\n",
    "print(f'Etat : \\n{domaine.status.value_counts().to_string()}')"
   ]
  },
  {
   "cell_type": "markdown",
   "metadata": {},
   "source": [
    "## Gaphiques génériques ##\n",
    "\n",
    "Quelques graphiques génériques, bien sur on peut en ajouter autant qu'on veut !"
   ]
  },
  {
   "cell_type": "code",
   "execution_count": 27,
   "metadata": {},
   "outputs": [
    {
     "data": {
      "image/png": "[encoded data removed]",
      "text/plain": [
       "<Figure size 1440x1080 with 6 Axes>"
      ]
     },
     "metadata": {
      "needs_background": "light"
     },
     "output_type": "display_data"
    }
   ],
   "source": [
    "import matplotlib.pyplot as plt\n",
    "\n",
    "fig, ax = plt.subplots(nrows=3, ncols=2, figsize=(20, 15), constrained_layout=True)\n",
    "\n",
    "# jours avant expiration en histogramme\n",
    "domaine.nbDaysBeforeExpires.plot(kind='hist', bins=detail*10, range=(0,2000), title='Nb de jours avant expiration', ax=ax[0,0])\n",
    "\n",
    "# année de création en histogramme\n",
    "domaine.dateCreation.dt.year.plot(kind='hist', bins=detail*10, title='Année de création', ax=ax[0,1])\n",
    "\n",
    "# gestionnaires de domaines par nombre de domaines gérés\n",
    "gestionnaire = domaine[domaine.gestionnaire != 'AUCUN'].gestionnaire.value_counts()\n",
    "gestionnaire.head(detail).plot(kind='barh', title=f'Gestionnaire (1-{detail})', ax=ax[1,0])\n",
    "\n",
    "# societés bénéficiaires des domaines par nombre de domaines\n",
    "benef = domaine.beneficiaire.str.extract(r'Ridet : [0-9]{7}-[0-9]{3} (.*)', expand=False).value_counts()\n",
    "benef.head(detail).plot(kind='barh', title=f'Société bénéficiaire (1-{detail})', ax=ax[1,1])\n",
    "\n",
    "# extension dns de domaines par nombre de domaines\n",
    "dns = domaine.dns1.str.split('.').str[-1].value_counts()\n",
    "dns.head(detail).plot(kind='bar', title=f'Localisation extension dns1 (1-{detail})', ax=ax[2,0])\n",
    "\n",
    "# serveur dns de domaines par nombre de domaines\n",
    "dns = domaine.dns1.str.split('.').str[-2].str.extract(r'([a-zA-Z]*[0-9]*)', expand=False).value_counts()\n",
    "dns.head(detail).plot(kind='bar', title=f'Localisation serveur dns1 (1-{detail})', ax=ax[2,1])\n",
    "\n",
    "plt.show()"
   ]
  },
  {
   "cell_type": "markdown",
   "metadata": {},
   "source": [
    "## Domaines avec expiration dans la semaine ##\n",
    "\n",
    "Liste des domaines expirant dans la semaine avec l'affichage de la date d'expiration ainsi que le gestionnaire du domaine"
   ]
  },
  {
   "cell_type": "code",
   "execution_count": 14,
   "metadata": {},
   "outputs": [
    {
     "data": {
      "text/html": [
       "<div>\n",
       "<style scoped>\n",
       "    .dataframe tbody tr th:only-of-type {\n",
       "        vertical-align: middle;\n",
       "    }\n",
       "\n",
       "    .dataframe tbody tr th {\n",
       "        vertical-align: top;\n",
       "    }\n",
       "\n",
       "    .dataframe thead th {\n",
       "        text-align: right;\n",
       "    }\n",
       "</style>\n",
       "<table border=\"1\" class=\"dataframe\">\n",
       "  <thead>\n",
       "    <tr style=\"text-align: right;\">\n",
       "      <th></th>\n",
       "      <th>nom</th>\n",
       "      <th>gestionnaire</th>\n",
       "      <th>dateExpiration</th>\n",
       "    </tr>\n",
       "  </thead>\n",
       "  <tbody>\n",
       "    <tr>\n",
       "      <th>3114</th>\n",
       "      <td>isante</td>\n",
       "      <td>SQUARE</td>\n",
       "      <td>2022-07-24</td>\n",
       "    </tr>\n",
       "    <tr>\n",
       "      <th>4122</th>\n",
       "      <td>mieux-batir</td>\n",
       "      <td>AUCUN</td>\n",
       "      <td>2022-07-24</td>\n",
       "    </tr>\n",
       "    <tr>\n",
       "      <th>5415</th>\n",
       "      <td>sadt</td>\n",
       "      <td>AUCUN</td>\n",
       "      <td>2022-07-24</td>\n",
       "    </tr>\n",
       "    <tr>\n",
       "      <th>3761</th>\n",
       "      <td>loky</td>\n",
       "      <td>AUCUN</td>\n",
       "      <td>2022-07-25</td>\n",
       "    </tr>\n",
       "    <tr>\n",
       "      <th>4216</th>\n",
       "      <td>moneymarket</td>\n",
       "      <td>AUCUN</td>\n",
       "      <td>2022-07-25</td>\n",
       "    </tr>\n",
       "    <tr>\n",
       "      <th>6</th>\n",
       "      <td>118</td>\n",
       "      <td>MEGALEET TECHNOLOGY NC S.A.S.</td>\n",
       "      <td>2022-07-28</td>\n",
       "    </tr>\n",
       "    <tr>\n",
       "      <th>3556</th>\n",
       "      <td>lecolefilante</td>\n",
       "      <td>AUCUN</td>\n",
       "      <td>2022-07-28</td>\n",
       "    </tr>\n",
       "    <tr>\n",
       "      <th>1228</th>\n",
       "      <td>cci</td>\n",
       "      <td>AUCUN</td>\n",
       "      <td>2022-07-29</td>\n",
       "    </tr>\n",
       "  </tbody>\n",
       "</table>\n",
       "</div>"
      ],
      "text/plain": [
       "                nom                   gestionnaire dateExpiration\n",
       "3114         isante                         SQUARE     2022-07-24\n",
       "4122    mieux-batir                          AUCUN     2022-07-24\n",
       "5415           sadt                          AUCUN     2022-07-24\n",
       "3761           loky                          AUCUN     2022-07-25\n",
       "4216    moneymarket                          AUCUN     2022-07-25\n",
       "6               118  MEGALEET TECHNOLOGY NC S.A.S.     2022-07-28\n",
       "3556  lecolefilante                          AUCUN     2022-07-28\n",
       "1228            cci                          AUCUN     2022-07-29"
      ]
     },
     "execution_count": 14,
     "metadata": {},
     "output_type": "execute_result"
    }
   ],
   "source": [
    "domaine[(domaine.nbDaysBeforeExpires<7)&(domaine.nbDaysBeforeExpires>0)][['nom', 'gestionnaire', 'dateExpiration']].sort_values('dateExpiration')"
   ]
  },
  {
   "cell_type": "markdown",
   "metadata": {},
   "source": [
    "## Domaines expirés ##\n",
    "\n",
    "Liste des domaines déja expirés"
   ]
  },
  {
   "cell_type": "code",
   "execution_count": 15,
   "metadata": {},
   "outputs": [
    {
     "data": {
      "text/html": [
       "<div>\n",
       "<style scoped>\n",
       "    .dataframe tbody tr th:only-of-type {\n",
       "        vertical-align: middle;\n",
       "    }\n",
       "\n",
       "    .dataframe tbody tr th {\n",
       "        vertical-align: top;\n",
       "    }\n",
       "\n",
       "    .dataframe thead th {\n",
       "        text-align: right;\n",
       "    }\n",
       "</style>\n",
       "<table border=\"1\" class=\"dataframe\">\n",
       "  <thead>\n",
       "    <tr style=\"text-align: right;\">\n",
       "      <th></th>\n",
       "      <th>nom</th>\n",
       "      <th>gestionnaire</th>\n",
       "      <th>dateExpiration</th>\n",
       "    </tr>\n",
       "  </thead>\n",
       "  <tbody>\n",
       "    <tr>\n",
       "      <th>4539</th>\n",
       "      <td>noumeateam</td>\n",
       "      <td>NAUTILE</td>\n",
       "      <td>2018-03-19</td>\n",
       "    </tr>\n",
       "    <tr>\n",
       "      <th>3360</th>\n",
       "      <td>labande</td>\n",
       "      <td>AUCUN</td>\n",
       "      <td>2019-08-25</td>\n",
       "    </tr>\n",
       "    <tr>\n",
       "      <th>1078</th>\n",
       "      <td>caledoniaspirit</td>\n",
       "      <td>AUCUN</td>\n",
       "      <td>2019-12-11</td>\n",
       "    </tr>\n",
       "    <tr>\n",
       "      <th>5958</th>\n",
       "      <td>stratconsultant</td>\n",
       "      <td>AUCUN</td>\n",
       "      <td>2020-10-29</td>\n",
       "    </tr>\n",
       "    <tr>\n",
       "      <th>4038</th>\n",
       "      <td>medisud</td>\n",
       "      <td>AUCUN</td>\n",
       "      <td>2021-05-19</td>\n",
       "    </tr>\n",
       "    <tr>\n",
       "      <th>4579</th>\n",
       "      <td>ntenvironnement</td>\n",
       "      <td>AUCUN</td>\n",
       "      <td>2021-05-28</td>\n",
       "    </tr>\n",
       "    <tr>\n",
       "      <th>4452</th>\n",
       "      <td>nexttrade</td>\n",
       "      <td>AUCUN</td>\n",
       "      <td>2021-05-30</td>\n",
       "    </tr>\n",
       "    <tr>\n",
       "      <th>2698</th>\n",
       "      <td>green</td>\n",
       "      <td>AUCUN</td>\n",
       "      <td>2021-06-03</td>\n",
       "    </tr>\n",
       "    <tr>\n",
       "      <th>2692</th>\n",
       "      <td>grandes-fougeres</td>\n",
       "      <td>AUCUN</td>\n",
       "      <td>2021-08-03</td>\n",
       "    </tr>\n",
       "    <tr>\n",
       "      <th>2324</th>\n",
       "      <td>exercisekitchen</td>\n",
       "      <td>AUCUN</td>\n",
       "      <td>2022-06-21</td>\n",
       "    </tr>\n",
       "  </tbody>\n",
       "</table>\n",
       "</div>"
      ],
      "text/plain": [
       "                   nom gestionnaire dateExpiration\n",
       "4539        noumeateam      NAUTILE     2018-03-19\n",
       "3360           labande        AUCUN     2019-08-25\n",
       "1078   caledoniaspirit        AUCUN     2019-12-11\n",
       "5958   stratconsultant        AUCUN     2020-10-29\n",
       "4038           medisud        AUCUN     2021-05-19\n",
       "4579   ntenvironnement        AUCUN     2021-05-28\n",
       "4452         nexttrade        AUCUN     2021-05-30\n",
       "2698             green        AUCUN     2021-06-03\n",
       "2692  grandes-fougeres        AUCUN     2021-08-03\n",
       "2324   exercisekitchen        AUCUN     2022-06-21"
      ]
     },
     "execution_count": 15,
     "metadata": {},
     "output_type": "execute_result"
    }
   ],
   "source": [
    "domaine[domaine.nbDaysBeforeExpires<0][['nom', 'gestionnaire', 'dateExpiration']].sort_values('dateExpiration')"
   ]
  }
 ],
 "metadata": {
  "kernelspec": {
   "display_name": "Python 3.8.10 ('venv': venv)",
   "language": "python",
   "name": "python3"
  },
  "language_info": {
   "codemirror_mode": {
    "name": "ipython",
    "version": 3
   },
   "file_extension": ".py",
   "mimetype": "text/x-python",
   "name": "python",
   "nbconvert_exporter": "python",
   "pygments_lexer": "ipython3",
   "version": "3.8.10"
  },
  "orig_nbformat": 4,
  "vscode": {
   "interpreter": {
    "hash": "d740bd33033e51a0da0213ee2f61cff6256b0f9db347ada079792f4f69f4a674"
   }
  }
 },
 "nbformat": 4,
 "nbformat_minor": 2
}
