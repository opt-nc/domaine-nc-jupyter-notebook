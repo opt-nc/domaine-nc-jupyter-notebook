{
 "cells": [
  {
   "cell_type": "code",
   "execution_count": 97,
   "id": "7bcc44c6",
   "metadata": {},
   "outputs": [],
   "source": [
    "import pandas as pd\n",
    "from graphdatascience import GraphDataScience"
   ]
  },
  {
   "cell_type": "markdown",
   "id": "1bc5f291",
   "metadata": {},
   "source": [
    "## Setup"
   ]
  },
  {
   "cell_type": "code",
   "execution_count": null,
   "id": "29e6bede",
   "metadata": {},
   "outputs": [],
   "source": [
    "URI      = \"neo4j://localhost:7687\"\n",
    "password = 'password'"
   ]
  },
  {
   "cell_type": "code",
   "execution_count": 119,
   "id": "0cb4e7e9",
   "metadata": {},
   "outputs": [],
   "source": [
    "creds    = ('neo4j', password)\n",
    "gds      = GraphDataScience(URI, auth=creds)"
   ]
  },
  {
   "cell_type": "markdown",
   "id": "22a0fb4a",
   "metadata": {},
   "source": [
    "## Data"
   ]
  },
  {
   "cell_type": "code",
   "execution_count": 99,
   "id": "a41f37ad",
   "metadata": {},
   "outputs": [],
   "source": [
    "df = pd.read_csv(\"domaine-nc.csv\")"
   ]
  },
  {
   "cell_type": "code",
   "execution_count": 100,
   "id": "9c5e94fc",
   "metadata": {},
   "outputs": [
    {
     "data": {
      "text/html": [
       "<div>\n",
       "<style scoped>\n",
       "    .dataframe tbody tr th:only-of-type {\n",
       "        vertical-align: middle;\n",
       "    }\n",
       "\n",
       "    .dataframe tbody tr th {\n",
       "        vertical-align: top;\n",
       "    }\n",
       "\n",
       "    .dataframe thead th {\n",
       "        text-align: right;\n",
       "    }\n",
       "</style>\n",
       "<table border=\"1\" class=\"dataframe\">\n",
       "  <thead>\n",
       "    <tr style=\"text-align: right;\">\n",
       "      <th></th>\n",
       "      <th>nom</th>\n",
       "      <th>extension</th>\n",
       "      <th>isProtected</th>\n",
       "      <th>gestionnaire</th>\n",
       "      <th>beneficiaire</th>\n",
       "      <th>status</th>\n",
       "      <th>dns1</th>\n",
       "      <th>dns2</th>\n",
       "      <th>dns3</th>\n",
       "      <th>dateCreation</th>\n",
       "      <th>dateModification</th>\n",
       "      <th>dateExpiration</th>\n",
       "      <th>nbDaysBeforeExpires</th>\n",
       "      <th>expired</th>\n",
       "      <th>note</th>\n",
       "    </tr>\n",
       "  </thead>\n",
       "  <tbody>\n",
       "    <tr>\n",
       "      <th>0</th>\n",
       "      <td>032</td>\n",
       "      <td>nc</td>\n",
       "      <td>False</td>\n",
       "      <td>LA FABRIK</td>\n",
       "      <td>Ridet : 1507490-001 32C</td>\n",
       "      <td>green</td>\n",
       "      <td>ns-408.awsdns-51.com</td>\n",
       "      <td>ns-1687.awsdns-18.co.uk</td>\n",
       "      <td>ns-1488.awsdns-58.org</td>\n",
       "      <td>2021-08-23</td>\n",
       "      <td>2021-08-23</td>\n",
       "      <td>2026-08-23</td>\n",
       "      <td>1485.0</td>\n",
       "      <td>False</td>\n",
       "      <td>Les données de cet annuaire WHOIS ne sont four...</td>\n",
       "    </tr>\n",
       "  </tbody>\n",
       "</table>\n",
       "</div>"
      ],
      "text/plain": [
       "   nom extension  isProtected gestionnaire             beneficiaire status  \\\n",
       "0  032        nc        False    LA FABRIK  Ridet : 1507490-001 32C  green   \n",
       "\n",
       "                   dns1                     dns2                   dns3  \\\n",
       "0  ns-408.awsdns-51.com  ns-1687.awsdns-18.co.uk  ns-1488.awsdns-58.org   \n",
       "\n",
       "  dateCreation dateModification dateExpiration  nbDaysBeforeExpires expired  \\\n",
       "0   2021-08-23       2021-08-23     2026-08-23               1485.0   False   \n",
       "\n",
       "                                                note  \n",
       "0  Les données de cet annuaire WHOIS ne sont four...  "
      ]
     },
     "execution_count": 100,
     "metadata": {},
     "output_type": "execute_result"
    }
   ],
   "source": [
    "df.head(1)"
   ]
  },
  {
   "cell_type": "markdown",
   "id": "3d535b69",
   "metadata": {},
   "source": [
    "## CREATE CSV"
   ]
  },
  {
   "cell_type": "code",
   "execution_count": 101,
   "id": "695a2def",
   "metadata": {},
   "outputs": [],
   "source": [
    "gestionnaire = df.gestionnaire.unique().tolist()\n",
    "gestionnaire.remove('AUCUN')\n",
    "beneficiaire = df.beneficiaire.unique().tolist()\n",
    "dns = df.dns1.unique().tolist() + df.dns1.unique().tolist() + df.dns3.unique().tolist()\n",
    "dns = list(set(dns))"
   ]
  },
  {
   "cell_type": "code",
   "execution_count": 102,
   "id": "238375fd",
   "metadata": {},
   "outputs": [],
   "source": [
    "df_gestionnaire = pd.DataFrame({\"gestionnaire\":gestionnaire})\n",
    "df_beneficiaire = pd.DataFrame({\"beneficiaire\":beneficiaire})\n",
    "df_dns = pd.DataFrame({\"dns\":dns})"
   ]
  },
  {
   "cell_type": "code",
   "execution_count": 103,
   "id": "4534b5e5",
   "metadata": {},
   "outputs": [],
   "source": [
    "df_gestionnaire.to_csv(\"gestionnaires.csv\",index=False)\n",
    "df_beneficiaire.to_csv(\"beneficiaires.csv\",index=False)\n",
    "df_dns.to_csv(\"dns.csv\",index=False)"
   ]
  },
  {
   "cell_type": "markdown",
   "id": "32d9b80c",
   "metadata": {},
   "source": [
    "### Pour la suite de l'execution du Notebook, il est nécessaire de copier les 4 fichiers CSV dans le dossier import associé à la base de données neo4J"
   ]
  },
  {
   "cell_type": "markdown",
   "id": "1500bb84",
   "metadata": {},
   "source": [
    "![alt text](im1.png \"Title\")"
   ]
  },
  {
   "cell_type": "markdown",
   "id": "662932f3",
   "metadata": {},
   "source": [
    "## Create Constraint"
   ]
  },
  {
   "cell_type": "code",
   "execution_count": 104,
   "id": "21a61c5f",
   "metadata": {},
   "outputs": [],
   "source": [
    "def create_constrainte(constraint):\n",
    "    c = f'''\n",
    "    // Create constraints\n",
    "    CREATE CONSTRAINT {constraint} IF NOT EXISTS ON (i:{constraint}) ASSERT i.id IS UNIQUE;\n",
    "    '''\n",
    "    gds.run_cypher(c)"
   ]
  },
  {
   "cell_type": "code",
   "execution_count": 105,
   "id": "7172cd18",
   "metadata": {},
   "outputs": [],
   "source": [
    "create_constrainte(\"Gestionnaires\")\n",
    "create_constrainte(\"Beneficiaires\")\n",
    "create_constrainte(\"dns\")"
   ]
  },
  {
   "cell_type": "markdown",
   "id": "68afb366",
   "metadata": {},
   "source": [
    "## Import Nodes"
   ]
  },
  {
   "cell_type": "code",
   "execution_count": 106,
   "id": "fb1457d7",
   "metadata": {},
   "outputs": [
    {
     "data": {
      "text/html": [
       "<div>\n",
       "<style scoped>\n",
       "    .dataframe tbody tr th:only-of-type {\n",
       "        vertical-align: middle;\n",
       "    }\n",
       "\n",
       "    .dataframe tbody tr th {\n",
       "        vertical-align: top;\n",
       "    }\n",
       "\n",
       "    .dataframe thead th {\n",
       "        text-align: right;\n",
       "    }\n",
       "</style>\n",
       "<table border=\"1\" class=\"dataframe\">\n",
       "  <thead>\n",
       "    <tr style=\"text-align: right;\">\n",
       "      <th></th>\n",
       "      <th>COUNT(*)</th>\n",
       "    </tr>\n",
       "  </thead>\n",
       "  <tbody>\n",
       "    <tr>\n",
       "      <th>0</th>\n",
       "      <td>6676</td>\n",
       "    </tr>\n",
       "  </tbody>\n",
       "</table>\n",
       "</div>"
      ],
      "text/plain": [
       "   COUNT(*)\n",
       "0      6676"
      ]
     },
     "execution_count": 106,
     "metadata": {},
     "output_type": "execute_result"
    }
   ],
   "source": [
    "c = '''\n",
    "// Load node list\n",
    "LOAD CSV WITH HEADERS FROM 'file:///domaine-nc.csv' AS line\n",
    "CREATE (:Site {nbDaysBeforeExpires : toInteger(line.nbDaysBeforeExpires), extension : line.extension, isProtected : line.isProtected, status : line.status, dateCreation : line.dateCreation, dateModification : line.dateModification, dateExpiration : line.dateExpiration, id: line.nom, expired : line.expired})\n",
    "RETURN COUNT(*)\n",
    "'''\n",
    "\n",
    "gds.run_cypher(c)"
   ]
  },
  {
   "cell_type": "code",
   "execution_count": 107,
   "id": "e16ddba7",
   "metadata": {},
   "outputs": [
    {
     "data": {
      "text/html": [
       "<div>\n",
       "<style scoped>\n",
       "    .dataframe tbody tr th:only-of-type {\n",
       "        vertical-align: middle;\n",
       "    }\n",
       "\n",
       "    .dataframe tbody tr th {\n",
       "        vertical-align: top;\n",
       "    }\n",
       "\n",
       "    .dataframe thead th {\n",
       "        text-align: right;\n",
       "    }\n",
       "</style>\n",
       "<table border=\"1\" class=\"dataframe\">\n",
       "  <thead>\n",
       "    <tr style=\"text-align: right;\">\n",
       "      <th></th>\n",
       "      <th>COUNT(*)</th>\n",
       "    </tr>\n",
       "  </thead>\n",
       "  <tbody>\n",
       "    <tr>\n",
       "      <th>0</th>\n",
       "      <td>56</td>\n",
       "    </tr>\n",
       "  </tbody>\n",
       "</table>\n",
       "</div>"
      ],
      "text/plain": [
       "   COUNT(*)\n",
       "0        56"
      ]
     },
     "execution_count": 107,
     "metadata": {},
     "output_type": "execute_result"
    }
   ],
   "source": [
    "c = '''\n",
    "// Load node list\n",
    "LOAD CSV WITH HEADERS FROM 'file:///gestionnaires.csv' AS line\n",
    "WITH line\n",
    "CREATE (:Gestionnaires {id:line.gestionnaire})\n",
    "RETURN COUNT(*)\n",
    "'''\n",
    "\n",
    "gds.run_cypher(c)"
   ]
  },
  {
   "cell_type": "code",
   "execution_count": 108,
   "id": "d3001cf4",
   "metadata": {},
   "outputs": [
    {
     "data": {
      "text/html": [
       "<div>\n",
       "<style scoped>\n",
       "    .dataframe tbody tr th:only-of-type {\n",
       "        vertical-align: middle;\n",
       "    }\n",
       "\n",
       "    .dataframe tbody tr th {\n",
       "        vertical-align: top;\n",
       "    }\n",
       "\n",
       "    .dataframe thead th {\n",
       "        text-align: right;\n",
       "    }\n",
       "</style>\n",
       "<table border=\"1\" class=\"dataframe\">\n",
       "  <thead>\n",
       "    <tr style=\"text-align: right;\">\n",
       "      <th></th>\n",
       "      <th>COUNT(*)</th>\n",
       "    </tr>\n",
       "  </thead>\n",
       "  <tbody>\n",
       "    <tr>\n",
       "      <th>0</th>\n",
       "      <td>3587</td>\n",
       "    </tr>\n",
       "  </tbody>\n",
       "</table>\n",
       "</div>"
      ],
      "text/plain": [
       "   COUNT(*)\n",
       "0      3587"
      ]
     },
     "execution_count": 108,
     "metadata": {},
     "output_type": "execute_result"
    }
   ],
   "source": [
    "c = '''\n",
    "// Load node list\n",
    "LOAD CSV WITH HEADERS FROM 'file:///beneficiaires.csv' AS line\n",
    "CREATE (:Beneficiaires {id:line.beneficiaire})\n",
    "RETURN COUNT(*)\n",
    "'''\n",
    "\n",
    "gds.run_cypher(c)"
   ]
  },
  {
   "cell_type": "code",
   "execution_count": 109,
   "id": "ff9c9ac8",
   "metadata": {},
   "outputs": [
    {
     "data": {
      "text/html": [
       "<div>\n",
       "<style scoped>\n",
       "    .dataframe tbody tr th:only-of-type {\n",
       "        vertical-align: middle;\n",
       "    }\n",
       "\n",
       "    .dataframe tbody tr th {\n",
       "        vertical-align: top;\n",
       "    }\n",
       "\n",
       "    .dataframe thead th {\n",
       "        text-align: right;\n",
       "    }\n",
       "</style>\n",
       "<table border=\"1\" class=\"dataframe\">\n",
       "  <thead>\n",
       "    <tr style=\"text-align: right;\">\n",
       "      <th></th>\n",
       "      <th>COUNT(*)</th>\n",
       "    </tr>\n",
       "  </thead>\n",
       "  <tbody>\n",
       "    <tr>\n",
       "      <th>0</th>\n",
       "      <td>1215</td>\n",
       "    </tr>\n",
       "  </tbody>\n",
       "</table>\n",
       "</div>"
      ],
      "text/plain": [
       "   COUNT(*)\n",
       "0      1215"
      ]
     },
     "execution_count": 109,
     "metadata": {},
     "output_type": "execute_result"
    }
   ],
   "source": [
    "c = '''\n",
    "// Load node list\n",
    "LOAD CSV WITH HEADERS FROM 'file:///dns.csv' AS line\n",
    "CREATE (:dns {id:line.dns})\n",
    "RETURN COUNT(*)\n",
    "'''\n",
    "\n",
    "gds.run_cypher(c)"
   ]
  },
  {
   "cell_type": "code",
   "execution_count": 110,
   "id": "c1d00b71",
   "metadata": {},
   "outputs": [
    {
     "data": {
      "text/html": [
       "<div>\n",
       "<style scoped>\n",
       "    .dataframe tbody tr th:only-of-type {\n",
       "        vertical-align: middle;\n",
       "    }\n",
       "\n",
       "    .dataframe tbody tr th {\n",
       "        vertical-align: top;\n",
       "    }\n",
       "\n",
       "    .dataframe thead th {\n",
       "        text-align: right;\n",
       "    }\n",
       "</style>\n",
       "<table border=\"1\" class=\"dataframe\">\n",
       "  <thead>\n",
       "    <tr style=\"text-align: right;\">\n",
       "      <th></th>\n",
       "    </tr>\n",
       "  </thead>\n",
       "  <tbody>\n",
       "  </tbody>\n",
       "</table>\n",
       "</div>"
      ],
      "text/plain": [
       "Empty DataFrame\n",
       "Columns: []\n",
       "Index: []"
      ]
     },
     "execution_count": 110,
     "metadata": {},
     "output_type": "execute_result"
    }
   ],
   "source": [
    "c = '''\n",
    "MATCH (n:Gestionnaires {id: 'AUCUN'})\n",
    "DELETE n\n",
    "'''\n",
    "gds.run_cypher(c)"
   ]
  },
  {
   "cell_type": "markdown",
   "id": "a2f3396e",
   "metadata": {},
   "source": [
    "## Import Edges"
   ]
  },
  {
   "cell_type": "code",
   "execution_count": 111,
   "id": "ee2c2c1e",
   "metadata": {},
   "outputs": [
    {
     "data": {
      "text/html": [
       "<div>\n",
       "<style scoped>\n",
       "    .dataframe tbody tr th:only-of-type {\n",
       "        vertical-align: middle;\n",
       "    }\n",
       "\n",
       "    .dataframe tbody tr th {\n",
       "        vertical-align: top;\n",
       "    }\n",
       "\n",
       "    .dataframe thead th {\n",
       "        text-align: right;\n",
       "    }\n",
       "</style>\n",
       "<table border=\"1\" class=\"dataframe\">\n",
       "  <thead>\n",
       "    <tr style=\"text-align: right;\">\n",
       "      <th></th>\n",
       "      <th>COUNT(*)</th>\n",
       "    </tr>\n",
       "  </thead>\n",
       "  <tbody>\n",
       "    <tr>\n",
       "      <th>0</th>\n",
       "      <td>2480</td>\n",
       "    </tr>\n",
       "  </tbody>\n",
       "</table>\n",
       "</div>"
      ],
      "text/plain": [
       "   COUNT(*)\n",
       "0      2480"
      ]
     },
     "execution_count": 111,
     "metadata": {},
     "output_type": "execute_result"
    }
   ],
   "source": [
    "c = '''\n",
    "// Load edge list\n",
    "LOAD CSV WITH HEADERS FROM 'file:///domaine-nc.csv' AS line\n",
    "WITH line\n",
    "MATCH (source:Gestionnaires {id: line.gestionnaire})\n",
    "MATCH (target:Site {id: line.nom})\n",
    "MERGE (source)-[:GERE]->(target)\n",
    "RETURN COUNT(*)\n",
    "'''\n",
    "\n",
    "gds.run_cypher(c)"
   ]
  },
  {
   "cell_type": "code",
   "execution_count": 112,
   "id": "0e51005c",
   "metadata": {},
   "outputs": [
    {
     "data": {
      "text/html": [
       "<div>\n",
       "<style scoped>\n",
       "    .dataframe tbody tr th:only-of-type {\n",
       "        vertical-align: middle;\n",
       "    }\n",
       "\n",
       "    .dataframe tbody tr th {\n",
       "        vertical-align: top;\n",
       "    }\n",
       "\n",
       "    .dataframe thead th {\n",
       "        text-align: right;\n",
       "    }\n",
       "</style>\n",
       "<table border=\"1\" class=\"dataframe\">\n",
       "  <thead>\n",
       "    <tr style=\"text-align: right;\">\n",
       "      <th></th>\n",
       "      <th>COUNT(*)</th>\n",
       "    </tr>\n",
       "  </thead>\n",
       "  <tbody>\n",
       "    <tr>\n",
       "      <th>0</th>\n",
       "      <td>6669</td>\n",
       "    </tr>\n",
       "  </tbody>\n",
       "</table>\n",
       "</div>"
      ],
      "text/plain": [
       "   COUNT(*)\n",
       "0      6669"
      ]
     },
     "execution_count": 112,
     "metadata": {},
     "output_type": "execute_result"
    }
   ],
   "source": [
    "c = '''\n",
    "// Load edge list\n",
    "LOAD CSV WITH HEADERS FROM 'file:///domaine-nc.csv' AS line\n",
    "WITH line\n",
    "MATCH (source:Beneficiaires {id: line.beneficiaire})\n",
    "MATCH (target:Site {id: line.nom})\n",
    "MERGE (source)-[:POSSEDE]->(target)\n",
    "RETURN COUNT(*)\n",
    "'''\n",
    "\n",
    "gds.run_cypher(c)"
   ]
  },
  {
   "cell_type": "code",
   "execution_count": 113,
   "id": "a0686e32",
   "metadata": {},
   "outputs": [
    {
     "data": {
      "text/html": [
       "<div>\n",
       "<style scoped>\n",
       "    .dataframe tbody tr th:only-of-type {\n",
       "        vertical-align: middle;\n",
       "    }\n",
       "\n",
       "    .dataframe tbody tr th {\n",
       "        vertical-align: top;\n",
       "    }\n",
       "\n",
       "    .dataframe thead th {\n",
       "        text-align: right;\n",
       "    }\n",
       "</style>\n",
       "<table border=\"1\" class=\"dataframe\">\n",
       "  <thead>\n",
       "    <tr style=\"text-align: right;\">\n",
       "      <th></th>\n",
       "      <th>COUNT(*)</th>\n",
       "    </tr>\n",
       "  </thead>\n",
       "  <tbody>\n",
       "    <tr>\n",
       "      <th>0</th>\n",
       "      <td>6669</td>\n",
       "    </tr>\n",
       "  </tbody>\n",
       "</table>\n",
       "</div>"
      ],
      "text/plain": [
       "   COUNT(*)\n",
       "0      6669"
      ]
     },
     "execution_count": 113,
     "metadata": {},
     "output_type": "execute_result"
    }
   ],
   "source": [
    "c = '''\n",
    "// Load edge list\n",
    "LOAD CSV WITH HEADERS FROM 'file:///domaine-nc.csv' AS line\n",
    "WITH line\n",
    "MATCH (source:Site {id: line.nom})\n",
    "MATCH (target:dns {id: line.dns1})\n",
    "MERGE (source)-[:HEBERGESUR]->(target)\n",
    "RETURN COUNT(*)\n",
    "'''\n",
    "\n",
    "gds.run_cypher(c)"
   ]
  },
  {
   "cell_type": "code",
   "execution_count": 114,
   "id": "2a5ebceb",
   "metadata": {},
   "outputs": [
    {
     "data": {
      "text/html": [
       "<div>\n",
       "<style scoped>\n",
       "    .dataframe tbody tr th:only-of-type {\n",
       "        vertical-align: middle;\n",
       "    }\n",
       "\n",
       "    .dataframe tbody tr th {\n",
       "        vertical-align: top;\n",
       "    }\n",
       "\n",
       "    .dataframe thead th {\n",
       "        text-align: right;\n",
       "    }\n",
       "</style>\n",
       "<table border=\"1\" class=\"dataframe\">\n",
       "  <thead>\n",
       "    <tr style=\"text-align: right;\">\n",
       "      <th></th>\n",
       "      <th>COUNT(*)</th>\n",
       "    </tr>\n",
       "  </thead>\n",
       "  <tbody>\n",
       "    <tr>\n",
       "      <th>0</th>\n",
       "      <td>2663</td>\n",
       "    </tr>\n",
       "  </tbody>\n",
       "</table>\n",
       "</div>"
      ],
      "text/plain": [
       "   COUNT(*)\n",
       "0      2663"
      ]
     },
     "execution_count": 114,
     "metadata": {},
     "output_type": "execute_result"
    }
   ],
   "source": [
    "c = '''\n",
    "// Load edge list\n",
    "LOAD CSV WITH HEADERS FROM 'file:///domaine-nc.csv' AS line\n",
    "WITH line\n",
    "MATCH (source:Site {id: line.nom})\n",
    "MATCH (target:dns {id: line.dns2})\n",
    "MERGE (source)-[:HEBERGESUR]->(target)\n",
    "RETURN COUNT(*)\n",
    "'''\n",
    "\n",
    "gds.run_cypher(c)"
   ]
  },
  {
   "cell_type": "code",
   "execution_count": 115,
   "id": "5177b8d0",
   "metadata": {},
   "outputs": [
    {
     "data": {
      "text/html": [
       "<div>\n",
       "<style scoped>\n",
       "    .dataframe tbody tr th:only-of-type {\n",
       "        vertical-align: middle;\n",
       "    }\n",
       "\n",
       "    .dataframe tbody tr th {\n",
       "        vertical-align: top;\n",
       "    }\n",
       "\n",
       "    .dataframe thead th {\n",
       "        text-align: right;\n",
       "    }\n",
       "</style>\n",
       "<table border=\"1\" class=\"dataframe\">\n",
       "  <thead>\n",
       "    <tr style=\"text-align: right;\">\n",
       "      <th></th>\n",
       "      <th>COUNT(*)</th>\n",
       "    </tr>\n",
       "  </thead>\n",
       "  <tbody>\n",
       "    <tr>\n",
       "      <th>0</th>\n",
       "      <td>2585</td>\n",
       "    </tr>\n",
       "  </tbody>\n",
       "</table>\n",
       "</div>"
      ],
      "text/plain": [
       "   COUNT(*)\n",
       "0      2585"
      ]
     },
     "execution_count": 115,
     "metadata": {},
     "output_type": "execute_result"
    }
   ],
   "source": [
    "c = '''\n",
    "// Load edge list\n",
    "LOAD CSV WITH HEADERS FROM 'file:///domaine-nc.csv' AS line\n",
    "WITH line\n",
    "MATCH (source:Site {id: line.nom})\n",
    "MATCH (target:dns {id: line.dns3})\n",
    "MERGE (source)-[:HEBERGESUR]->(target)\n",
    "RETURN COUNT(*)\n",
    "'''\n",
    "\n",
    "gds.run_cypher(c)"
   ]
  },
  {
   "cell_type": "code",
   "execution_count": 116,
   "id": "4c542ae5",
   "metadata": {},
   "outputs": [
    {
     "data": {
      "text/html": [
       "<div>\n",
       "<style scoped>\n",
       "    .dataframe tbody tr th:only-of-type {\n",
       "        vertical-align: middle;\n",
       "    }\n",
       "\n",
       "    .dataframe tbody tr th {\n",
       "        vertical-align: top;\n",
       "    }\n",
       "\n",
       "    .dataframe thead th {\n",
       "        text-align: right;\n",
       "    }\n",
       "</style>\n",
       "<table border=\"1\" class=\"dataframe\">\n",
       "  <thead>\n",
       "    <tr style=\"text-align: right;\">\n",
       "      <th></th>\n",
       "      <th>COUNT(*)</th>\n",
       "    </tr>\n",
       "  </thead>\n",
       "  <tbody>\n",
       "    <tr>\n",
       "      <th>0</th>\n",
       "      <td>2475</td>\n",
       "    </tr>\n",
       "  </tbody>\n",
       "</table>\n",
       "</div>"
      ],
      "text/plain": [
       "   COUNT(*)\n",
       "0      2475"
      ]
     },
     "execution_count": 116,
     "metadata": {},
     "output_type": "execute_result"
    }
   ],
   "source": [
    "c = '''\n",
    "// Load edge list\n",
    "LOAD CSV WITH HEADERS FROM 'file:///domaine-nc.csv' AS line\n",
    "WITH line\n",
    "MATCH (source:Beneficiaires {id: line.beneficiaire})\n",
    "MATCH (target:Gestionnaires {id: line.gestionnaire})\n",
    "MERGE (source)-[:CLIENTDE]->(target)\n",
    "RETURN COUNT(*)\n",
    "'''\n",
    "\n",
    "gds.run_cypher(c)"
   ]
  },
  {
   "cell_type": "markdown",
   "id": "2904ddc3",
   "metadata": {},
   "source": [
    "## CLEAR DMBS (Si besoin enlever les paranthèses)"
   ]
  },
  {
   "cell_type": "code",
   "execution_count": 117,
   "id": "57675096",
   "metadata": {},
   "outputs": [
    {
     "data": {
      "text/plain": [
       "\"c = '''\\n//\\nMATCH (n)\\nDELETE n\\n'''\\ngds.run_cypher(c)\""
      ]
     },
     "execution_count": 117,
     "metadata": {},
     "output_type": "execute_result"
    }
   ],
   "source": [
    "\"\"\"c = '''\n",
    "//\n",
    "MATCH (n)\n",
    "DELETE n\n",
    "'''\n",
    "gds.run_cypher(c)\"\"\""
   ]
  },
  {
   "cell_type": "code",
   "execution_count": null,
   "id": "9b8a79eb",
   "metadata": {},
   "outputs": [],
   "source": []
  }
 ],
 "metadata": {
  "kernelspec": {
   "display_name": "Python 3.8.8 ('base')",
   "language": "python",
   "name": "python3"
  },
  "language_info": {
   "codemirror_mode": {
    "name": "ipython",
    "version": 3
   },
   "file_extension": ".py",
   "mimetype": "text/x-python",
   "name": "python",
   "nbconvert_exporter": "python",
   "pygments_lexer": "ipython3",
   "version": "3.8.8"
  },
  "vscode": {
   "interpreter": {
    "hash": "7d1962ebe7a0e2a2e85ea33467ffefcaf9a1a84cbc83a928177a012af89e0b2e"
   }
  }
 },
 "nbformat": 4,
 "nbformat_minor": 5
}
